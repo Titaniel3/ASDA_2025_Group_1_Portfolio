{
 "cells": [
  {
   "metadata": {},
   "cell_type": "markdown",
   "source": [
    "# Analysis of Chess Dataset\n",
    "\n",
    "### Metadata\n",
    "- Dataset name: games.csv\n",
    "- Source: tbd\n",
    "- Date acquired: 2025-10-24\n",
    "- Access path: https://github.com/Titaniel3/ASDA_2025_Group_1_Portfolio/blob/5fa1a748946e7faf7d4ee6f6deb02c5cb9c91272/additional_material/games.csv\n",
    "- MD5: 22a652ce21b9ecc314b979cf6b28d463\n",
    "- Description: detailed information of 20.000 games of chess"
   ],
   "id": "f01531fcfa8e8deb"
  },
  {
   "cell_type": "code",
   "execution_count": null,
   "id": "initial_id",
   "metadata": {
    "collapsed": true
   },
   "outputs": [],
   "source": [
    ""
   ]
  }
 ],
 "metadata": {
  "kernelspec": {
   "display_name": "Python 3",
   "language": "python",
   "name": "python3"
  },
  "language_info": {
   "codemirror_mode": {
    "name": "ipython",
    "version": 2
   },
   "file_extension": ".py",
   "mimetype": "text/x-python",
   "name": "python",
   "nbconvert_exporter": "python",
   "pygments_lexer": "ipython2",
   "version": "2.7.6"
  }
 },
 "nbformat": 4,
 "nbformat_minor": 5
}

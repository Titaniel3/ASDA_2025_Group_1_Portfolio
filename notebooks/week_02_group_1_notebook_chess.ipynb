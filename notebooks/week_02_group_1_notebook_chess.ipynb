{
 "cells": [
  {
   "metadata": {},
   "cell_type": "markdown",
   "source": [
    "# Analysis of Chess Dataset\n",
    "\n",
    "### Metadata\n",
    "- Dataset name: games.csv\n",
    "- Source: tbd\n",
    "- Date acquired: 2025-10-24\n",
    "- Access path: https://github.com/Titaniel3/ASDA_2025_Group_1_Portfolio/blob/5fa1a748946e7faf7d4ee6f6deb02c5cb9c91272/additional_material/games.csv\n",
    "- MD5: 22a652ce21b9ecc314b979cf6b28d463\n",
    "- Description: detailed information of 20.000 games of chess"
   ],
   "id": "f01531fcfa8e8deb"
  },
  {
   "metadata": {},
   "cell_type": "markdown",
   "source": [
    "### Import of libraries and file\n",
    "Import the file and create a dataframe from it."
   ],
   "id": "68fe1a12b63102a"
  },
  {
   "cell_type": "code",
   "id": "initial_id",
   "metadata": {
    "collapsed": true,
    "ExecuteTime": {
     "end_time": "2025-10-27T15:40:07.211853Z",
     "start_time": "2025-10-27T15:40:07.207436Z"
    }
   },
   "source": [
    "import pandas as pd\n",
    "\n",
    "# jupyter notebooks are only displaying the result of the last expression. display let\"s us have multiple evaluations from one cell\n",
    "from IPython.display import display"
   ],
   "outputs": [],
   "execution_count": 30
  },
  {
   "metadata": {
    "ExecuteTime": {
     "end_time": "2025-10-27T15:40:07.306015Z",
     "start_time": "2025-10-27T15:40:07.218656Z"
    }
   },
   "cell_type": "code",
   "source": [
    "df = pd.read_csv('../additional_material/games.csv')\n",
    "\n",
    "# Display df head to verify that df was created correctly\n",
    "df.head(2)"
   ],
   "id": "e45538f776d0971c",
   "outputs": [
    {
     "data": {
      "text/plain": [
       "         id  rated    created_at  last_move_at  turns victory_status winner  \\\n",
       "0  TZJHLljE  False  1.504210e+12  1.504210e+12     13      outoftime  white   \n",
       "1  l1NXvwaE   True  1.504130e+12  1.504130e+12     16         resign  black   \n",
       "\n",
       "  increment_code  white_id  white_rating   black_id  black_rating  \\\n",
       "0           15+2  bourgris          1500       a-00          1191   \n",
       "1           5+10      a-00          1322  skinnerua          1261   \n",
       "\n",
       "                                               moves opening_eco  \\\n",
       "0  d4 d5 c4 c6 cxd5 e6 dxe6 fxe6 Nf3 Bb4+ Nc3 Ba5...         D10   \n",
       "1  d4 Nc6 e4 e5 f4 f6 dxe5 fxe5 fxe5 Nxe5 Qd4 Nc6...         B00   \n",
       "\n",
       "                             opening_name  opening_ply  \n",
       "0        Slav Defense: Exchange Variation            5  \n",
       "1  Nimzowitsch Defense: Kennedy Variation            4  "
      ],
      "text/html": [
       "<div>\n",
       "<style scoped>\n",
       "    .dataframe tbody tr th:only-of-type {\n",
       "        vertical-align: middle;\n",
       "    }\n",
       "\n",
       "    .dataframe tbody tr th {\n",
       "        vertical-align: top;\n",
       "    }\n",
       "\n",
       "    .dataframe thead th {\n",
       "        text-align: right;\n",
       "    }\n",
       "</style>\n",
       "<table border=\"1\" class=\"dataframe\">\n",
       "  <thead>\n",
       "    <tr style=\"text-align: right;\">\n",
       "      <th></th>\n",
       "      <th>id</th>\n",
       "      <th>rated</th>\n",
       "      <th>created_at</th>\n",
       "      <th>last_move_at</th>\n",
       "      <th>turns</th>\n",
       "      <th>victory_status</th>\n",
       "      <th>winner</th>\n",
       "      <th>increment_code</th>\n",
       "      <th>white_id</th>\n",
       "      <th>white_rating</th>\n",
       "      <th>black_id</th>\n",
       "      <th>black_rating</th>\n",
       "      <th>moves</th>\n",
       "      <th>opening_eco</th>\n",
       "      <th>opening_name</th>\n",
       "      <th>opening_ply</th>\n",
       "    </tr>\n",
       "  </thead>\n",
       "  <tbody>\n",
       "    <tr>\n",
       "      <th>0</th>\n",
       "      <td>TZJHLljE</td>\n",
       "      <td>False</td>\n",
       "      <td>1.504210e+12</td>\n",
       "      <td>1.504210e+12</td>\n",
       "      <td>13</td>\n",
       "      <td>outoftime</td>\n",
       "      <td>white</td>\n",
       "      <td>15+2</td>\n",
       "      <td>bourgris</td>\n",
       "      <td>1500</td>\n",
       "      <td>a-00</td>\n",
       "      <td>1191</td>\n",
       "      <td>d4 d5 c4 c6 cxd5 e6 dxe6 fxe6 Nf3 Bb4+ Nc3 Ba5...</td>\n",
       "      <td>D10</td>\n",
       "      <td>Slav Defense: Exchange Variation</td>\n",
       "      <td>5</td>\n",
       "    </tr>\n",
       "    <tr>\n",
       "      <th>1</th>\n",
       "      <td>l1NXvwaE</td>\n",
       "      <td>True</td>\n",
       "      <td>1.504130e+12</td>\n",
       "      <td>1.504130e+12</td>\n",
       "      <td>16</td>\n",
       "      <td>resign</td>\n",
       "      <td>black</td>\n",
       "      <td>5+10</td>\n",
       "      <td>a-00</td>\n",
       "      <td>1322</td>\n",
       "      <td>skinnerua</td>\n",
       "      <td>1261</td>\n",
       "      <td>d4 Nc6 e4 e5 f4 f6 dxe5 fxe5 fxe5 Nxe5 Qd4 Nc6...</td>\n",
       "      <td>B00</td>\n",
       "      <td>Nimzowitsch Defense: Kennedy Variation</td>\n",
       "      <td>4</td>\n",
       "    </tr>\n",
       "  </tbody>\n",
       "</table>\n",
       "</div>"
      ]
     },
     "execution_count": 31,
     "metadata": {},
     "output_type": "execute_result"
    }
   ],
   "execution_count": 31
  },
  {
   "metadata": {
    "ExecuteTime": {
     "end_time": "2025-10-27T15:40:07.323057Z",
     "start_time": "2025-10-27T15:40:07.312515Z"
    }
   },
   "cell_type": "code",
   "source": [
    "#df.dtypes allows us to see columns and data types at the same time in one single step\n",
    "df.dtypes\n"
   ],
   "id": "ee1731114f487a2c",
   "outputs": [
    {
     "data": {
      "text/plain": [
       "id                 object\n",
       "rated                bool\n",
       "created_at        float64\n",
       "last_move_at      float64\n",
       "turns               int64\n",
       "victory_status     object\n",
       "winner             object\n",
       "increment_code     object\n",
       "white_id           object\n",
       "white_rating        int64\n",
       "black_id           object\n",
       "black_rating        int64\n",
       "moves              object\n",
       "opening_eco        object\n",
       "opening_name       object\n",
       "opening_ply         int64\n",
       "dtype: object"
      ]
     },
     "execution_count": 32,
     "metadata": {},
     "output_type": "execute_result"
    }
   ],
   "execution_count": 32
  },
  {
   "metadata": {
    "ExecuteTime": {
     "end_time": "2025-10-27T15:40:07.344833Z",
     "start_time": "2025-10-27T15:40:07.332414Z"
    }
   },
   "cell_type": "code",
   "source": [
    "#df.count() provides an information about the numbers of nun-null values in each column. I added df.shape to have a comparison to the complete set.\n",
    "\n",
    "display(df.shape)\n",
    "display(df.count())"
   ],
   "id": "7eb9d7b0d52085e2",
   "outputs": [
    {
     "data": {
      "text/plain": [
       "(20058, 16)"
      ]
     },
     "metadata": {},
     "output_type": "display_data",
     "jetTransient": {
      "display_id": null
     }
    },
    {
     "data": {
      "text/plain": [
       "id                20058\n",
       "rated             20058\n",
       "created_at        20058\n",
       "last_move_at      20058\n",
       "turns             20058\n",
       "victory_status    20058\n",
       "winner            20058\n",
       "increment_code    20058\n",
       "white_id          20058\n",
       "white_rating      20058\n",
       "black_id          20058\n",
       "black_rating      20058\n",
       "moves             20058\n",
       "opening_eco       20058\n",
       "opening_name      20058\n",
       "opening_ply       20058\n",
       "dtype: int64"
      ]
     },
     "metadata": {},
     "output_type": "display_data",
     "jetTransient": {
      "display_id": null
     }
    }
   ],
   "execution_count": 33
  },
  {
   "metadata": {
    "ExecuteTime": {
     "end_time": "2025-10-27T15:40:07.385236Z",
     "start_time": "2025-10-27T15:40:07.357863Z"
    }
   },
   "cell_type": "code",
   "source": [
    "# since there are no NaN cells we don't need to count nan values as an additional unique value and can leave the (dropna=False)\n",
    "\n",
    "df.nunique()"
   ],
   "id": "43471912878540b6",
   "outputs": [
    {
     "data": {
      "text/plain": [
       "id                19113\n",
       "rated                 2\n",
       "created_at        13151\n",
       "last_move_at      13186\n",
       "turns               211\n",
       "victory_status        4\n",
       "winner                3\n",
       "increment_code      400\n",
       "white_id           9438\n",
       "white_rating       1516\n",
       "black_id           9331\n",
       "black_rating       1521\n",
       "moves             18920\n",
       "opening_eco         365\n",
       "opening_name       1477\n",
       "opening_ply          23\n",
       "dtype: int64"
      ]
     },
     "execution_count": 34,
     "metadata": {},
     "output_type": "execute_result"
    }
   ],
   "execution_count": 34
  },
  {
   "metadata": {
    "ExecuteTime": {
     "end_time": "2025-10-27T15:40:07.406731Z",
     "start_time": "2025-10-27T15:40:07.396037Z"
    }
   },
   "cell_type": "code",
   "source": [
    "# for insight into the numerical columns\n",
    "\n",
    "df.describe()\n"
   ],
   "id": "6dd8791fb0689172",
   "outputs": [
    {
     "data": {
      "text/plain": [
       "         created_at  last_move_at         turns  white_rating  black_rating  \\\n",
       "count  2.005800e+04  2.005800e+04  20058.000000  20058.000000  20058.000000   \n",
       "mean   1.483617e+12  1.483618e+12     60.465999   1596.631868   1588.831987   \n",
       "std    2.850151e+10  2.850140e+10     33.570585    291.253376    291.036126   \n",
       "min    1.376772e+12  1.376772e+12      1.000000    784.000000    789.000000   \n",
       "25%    1.477548e+12  1.477548e+12     37.000000   1398.000000   1391.000000   \n",
       "50%    1.496010e+12  1.496010e+12     55.000000   1567.000000   1562.000000   \n",
       "75%    1.503170e+12  1.503170e+12     79.000000   1793.000000   1784.000000   \n",
       "max    1.504493e+12  1.504494e+12    349.000000   2700.000000   2723.000000   \n",
       "\n",
       "        opening_ply  \n",
       "count  20058.000000  \n",
       "mean       4.816981  \n",
       "std        2.797152  \n",
       "min        1.000000  \n",
       "25%        3.000000  \n",
       "50%        4.000000  \n",
       "75%        6.000000  \n",
       "max       28.000000  "
      ],
      "text/html": [
       "<div>\n",
       "<style scoped>\n",
       "    .dataframe tbody tr th:only-of-type {\n",
       "        vertical-align: middle;\n",
       "    }\n",
       "\n",
       "    .dataframe tbody tr th {\n",
       "        vertical-align: top;\n",
       "    }\n",
       "\n",
       "    .dataframe thead th {\n",
       "        text-align: right;\n",
       "    }\n",
       "</style>\n",
       "<table border=\"1\" class=\"dataframe\">\n",
       "  <thead>\n",
       "    <tr style=\"text-align: right;\">\n",
       "      <th></th>\n",
       "      <th>created_at</th>\n",
       "      <th>last_move_at</th>\n",
       "      <th>turns</th>\n",
       "      <th>white_rating</th>\n",
       "      <th>black_rating</th>\n",
       "      <th>opening_ply</th>\n",
       "    </tr>\n",
       "  </thead>\n",
       "  <tbody>\n",
       "    <tr>\n",
       "      <th>count</th>\n",
       "      <td>2.005800e+04</td>\n",
       "      <td>2.005800e+04</td>\n",
       "      <td>20058.000000</td>\n",
       "      <td>20058.000000</td>\n",
       "      <td>20058.000000</td>\n",
       "      <td>20058.000000</td>\n",
       "    </tr>\n",
       "    <tr>\n",
       "      <th>mean</th>\n",
       "      <td>1.483617e+12</td>\n",
       "      <td>1.483618e+12</td>\n",
       "      <td>60.465999</td>\n",
       "      <td>1596.631868</td>\n",
       "      <td>1588.831987</td>\n",
       "      <td>4.816981</td>\n",
       "    </tr>\n",
       "    <tr>\n",
       "      <th>std</th>\n",
       "      <td>2.850151e+10</td>\n",
       "      <td>2.850140e+10</td>\n",
       "      <td>33.570585</td>\n",
       "      <td>291.253376</td>\n",
       "      <td>291.036126</td>\n",
       "      <td>2.797152</td>\n",
       "    </tr>\n",
       "    <tr>\n",
       "      <th>min</th>\n",
       "      <td>1.376772e+12</td>\n",
       "      <td>1.376772e+12</td>\n",
       "      <td>1.000000</td>\n",
       "      <td>784.000000</td>\n",
       "      <td>789.000000</td>\n",
       "      <td>1.000000</td>\n",
       "    </tr>\n",
       "    <tr>\n",
       "      <th>25%</th>\n",
       "      <td>1.477548e+12</td>\n",
       "      <td>1.477548e+12</td>\n",
       "      <td>37.000000</td>\n",
       "      <td>1398.000000</td>\n",
       "      <td>1391.000000</td>\n",
       "      <td>3.000000</td>\n",
       "    </tr>\n",
       "    <tr>\n",
       "      <th>50%</th>\n",
       "      <td>1.496010e+12</td>\n",
       "      <td>1.496010e+12</td>\n",
       "      <td>55.000000</td>\n",
       "      <td>1567.000000</td>\n",
       "      <td>1562.000000</td>\n",
       "      <td>4.000000</td>\n",
       "    </tr>\n",
       "    <tr>\n",
       "      <th>75%</th>\n",
       "      <td>1.503170e+12</td>\n",
       "      <td>1.503170e+12</td>\n",
       "      <td>79.000000</td>\n",
       "      <td>1793.000000</td>\n",
       "      <td>1784.000000</td>\n",
       "      <td>6.000000</td>\n",
       "    </tr>\n",
       "    <tr>\n",
       "      <th>max</th>\n",
       "      <td>1.504493e+12</td>\n",
       "      <td>1.504494e+12</td>\n",
       "      <td>349.000000</td>\n",
       "      <td>2700.000000</td>\n",
       "      <td>2723.000000</td>\n",
       "      <td>28.000000</td>\n",
       "    </tr>\n",
       "  </tbody>\n",
       "</table>\n",
       "</div>"
      ]
     },
     "execution_count": 35,
     "metadata": {},
     "output_type": "execute_result"
    }
   ],
   "execution_count": 35
  },
  {
   "metadata": {
    "ExecuteTime": {
     "end_time": "2025-10-27T15:40:07.445845Z",
     "start_time": "2025-10-27T15:40:07.415072Z"
    }
   },
   "cell_type": "code",
   "source": [
    "# for insights into categorical columns\n",
    "\n",
    "df.describe(include=['object', 'bool'])\n"
   ],
   "id": "be073c24612832be",
   "outputs": [
    {
     "data": {
      "text/plain": [
       "              id  rated victory_status winner increment_code white_id  \\\n",
       "count      20058  20058          20058  20058          20058    20058   \n",
       "unique     19113      2              4      3            400     9438   \n",
       "top     XRuQPSzH   True         resign  white           10+0  taranga   \n",
       "freq           5  16155          11147  10001           7721       72   \n",
       "\n",
       "       black_id  moves opening_eco          opening_name  \n",
       "count     20058  20058       20058                 20058  \n",
       "unique     9331  18920         365                  1477  \n",
       "top     taranga  e4 e5         A00  Van't Kruijs Opening  \n",
       "freq         82     27        1007                   368  "
      ],
      "text/html": [
       "<div>\n",
       "<style scoped>\n",
       "    .dataframe tbody tr th:only-of-type {\n",
       "        vertical-align: middle;\n",
       "    }\n",
       "\n",
       "    .dataframe tbody tr th {\n",
       "        vertical-align: top;\n",
       "    }\n",
       "\n",
       "    .dataframe thead th {\n",
       "        text-align: right;\n",
       "    }\n",
       "</style>\n",
       "<table border=\"1\" class=\"dataframe\">\n",
       "  <thead>\n",
       "    <tr style=\"text-align: right;\">\n",
       "      <th></th>\n",
       "      <th>id</th>\n",
       "      <th>rated</th>\n",
       "      <th>victory_status</th>\n",
       "      <th>winner</th>\n",
       "      <th>increment_code</th>\n",
       "      <th>white_id</th>\n",
       "      <th>black_id</th>\n",
       "      <th>moves</th>\n",
       "      <th>opening_eco</th>\n",
       "      <th>opening_name</th>\n",
       "    </tr>\n",
       "  </thead>\n",
       "  <tbody>\n",
       "    <tr>\n",
       "      <th>count</th>\n",
       "      <td>20058</td>\n",
       "      <td>20058</td>\n",
       "      <td>20058</td>\n",
       "      <td>20058</td>\n",
       "      <td>20058</td>\n",
       "      <td>20058</td>\n",
       "      <td>20058</td>\n",
       "      <td>20058</td>\n",
       "      <td>20058</td>\n",
       "      <td>20058</td>\n",
       "    </tr>\n",
       "    <tr>\n",
       "      <th>unique</th>\n",
       "      <td>19113</td>\n",
       "      <td>2</td>\n",
       "      <td>4</td>\n",
       "      <td>3</td>\n",
       "      <td>400</td>\n",
       "      <td>9438</td>\n",
       "      <td>9331</td>\n",
       "      <td>18920</td>\n",
       "      <td>365</td>\n",
       "      <td>1477</td>\n",
       "    </tr>\n",
       "    <tr>\n",
       "      <th>top</th>\n",
       "      <td>XRuQPSzH</td>\n",
       "      <td>True</td>\n",
       "      <td>resign</td>\n",
       "      <td>white</td>\n",
       "      <td>10+0</td>\n",
       "      <td>taranga</td>\n",
       "      <td>taranga</td>\n",
       "      <td>e4 e5</td>\n",
       "      <td>A00</td>\n",
       "      <td>Van't Kruijs Opening</td>\n",
       "    </tr>\n",
       "    <tr>\n",
       "      <th>freq</th>\n",
       "      <td>5</td>\n",
       "      <td>16155</td>\n",
       "      <td>11147</td>\n",
       "      <td>10001</td>\n",
       "      <td>7721</td>\n",
       "      <td>72</td>\n",
       "      <td>82</td>\n",
       "      <td>27</td>\n",
       "      <td>1007</td>\n",
       "      <td>368</td>\n",
       "    </tr>\n",
       "  </tbody>\n",
       "</table>\n",
       "</div>"
      ]
     },
     "execution_count": 36,
     "metadata": {},
     "output_type": "execute_result"
    }
   ],
   "execution_count": 36
  },
  {
   "metadata": {
    "ExecuteTime": {
     "end_time": "2025-10-27T15:40:07.465971Z",
     "start_time": "2025-10-27T15:40:07.459905Z"
    }
   },
   "cell_type": "code",
   "source": [
    "# Least frequent value is only feasible for some columns. Explored using df.value_counts\n",
    "\n",
    "value_counts_rated = df['rated'].value_counts()\n",
    "value_counts_rated"
   ],
   "id": "2a503e39c51f6e01",
   "outputs": [
    {
     "data": {
      "text/plain": [
       "rated\n",
       "True     16155\n",
       "False     3903\n",
       "Name: count, dtype: int64"
      ]
     },
     "execution_count": 37,
     "metadata": {},
     "output_type": "execute_result"
    }
   ],
   "execution_count": 37
  },
  {
   "metadata": {
    "ExecuteTime": {
     "end_time": "2025-10-27T15:40:07.473514Z",
     "start_time": "2025-10-27T15:40:07.469984Z"
    }
   },
   "cell_type": "code",
   "source": [
    "value_counts_victory = df['victory_status'].value_counts()\n",
    "value_counts_victory"
   ],
   "id": "7d1d0201276b8288",
   "outputs": [
    {
     "data": {
      "text/plain": [
       "victory_status\n",
       "resign       11147\n",
       "mate          6325\n",
       "outoftime     1680\n",
       "draw           906\n",
       "Name: count, dtype: int64"
      ]
     },
     "execution_count": 38,
     "metadata": {},
     "output_type": "execute_result"
    }
   ],
   "execution_count": 38
  },
  {
   "metadata": {
    "ExecuteTime": {
     "end_time": "2025-10-27T15:40:07.484838Z",
     "start_time": "2025-10-27T15:40:07.479020Z"
    }
   },
   "cell_type": "code",
   "source": [
    "value_counts_opening = df['opening_eco'].value_counts()\n",
    "value_counts_opening"
   ],
   "id": "17b057d80c08b3d8",
   "outputs": [
    {
     "data": {
      "text/plain": [
       "opening_eco\n",
       "A00    1007\n",
       "C00     844\n",
       "D00     739\n",
       "B01     716\n",
       "C41     691\n",
       "       ... \n",
       "A33       1\n",
       "D22       1\n",
       "E44       1\n",
       "B58       1\n",
       "D19       1\n",
       "Name: count, Length: 365, dtype: int64"
      ]
     },
     "execution_count": 39,
     "metadata": {},
     "output_type": "execute_result"
    }
   ],
   "execution_count": 39
  },
  {
   "metadata": {
    "ExecuteTime": {
     "end_time": "2025-10-27T15:40:07.530981Z",
     "start_time": "2025-10-27T15:40:07.500611Z"
    }
   },
   "cell_type": "code",
   "source": [
    "count_duplicates = df.duplicated().sum()\n",
    "count_duplicates"
   ],
   "id": "46763da0a7e3af1f",
   "outputs": [
    {
     "data": {
      "text/plain": [
       "np.int64(429)"
      ]
     },
     "execution_count": 40,
     "metadata": {},
     "output_type": "execute_result"
    }
   ],
   "execution_count": 40
  },
  {
   "metadata": {
    "ExecuteTime": {
     "end_time": "2025-10-27T15:40:07.566709Z",
     "start_time": "2025-10-27T15:40:07.558006Z"
    }
   },
   "cell_type": "code",
   "source": [
    "# Distribution of IDs. We noted that a lot of games appear to be duplicates.\n",
    "\n",
    "\n",
    "# Get the distribution of how often each ID occurs\n",
    "game_id_counts = df[\"id\"].value_counts()\n",
    "\n",
    "id_occurrence_distribution = game_id_counts.value_counts().sort_index(ascending=False)\n",
    "\n",
    "id_occurrence_distribution\n"
   ],
   "id": "d7bf4ac402627775",
   "outputs": [
    {
     "data": {
      "text/plain": [
       "count\n",
       "5        1\n",
       "4       25\n",
       "3       79\n",
       "2      708\n",
       "1    18300\n",
       "Name: count, dtype: int64"
      ]
     },
     "execution_count": 41,
     "metadata": {},
     "output_type": "execute_result"
    }
   ],
   "execution_count": 41
  }
 ],
 "metadata": {
  "kernelspec": {
   "display_name": "Python 3",
   "language": "python",
   "name": "python3"
  },
  "language_info": {
   "codemirror_mode": {
    "name": "ipython",
    "version": 2
   },
   "file_extension": ".py",
   "mimetype": "text/x-python",
   "name": "python",
   "nbconvert_exporter": "python",
   "pygments_lexer": "ipython2",
   "version": "2.7.6"
  }
 },
 "nbformat": 4,
 "nbformat_minor": 5
}

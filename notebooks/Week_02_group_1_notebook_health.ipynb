{
 "cells": [
  {
   "cell_type": "markdown",
   "id": "fbac5989",
   "metadata": {},
   "source": [
    "# ASDA Week 1 Homework"
   ]
  },
  {
   "cell_type": "code",
   "id": "160696b8",
   "metadata": {
    "ExecuteTime": {
     "end_time": "2025-10-27T16:05:57.823388Z",
     "start_time": "2025-10-27T16:05:57.820464Z"
    }
   },
   "source": [
    "#1"
   ],
   "outputs": [],
   "execution_count": 2
  },
  {
   "cell_type": "code",
   "id": "92992bbc",
   "metadata": {
    "ExecuteTime": {
     "end_time": "2025-10-27T16:05:57.837503Z",
     "start_time": "2025-10-27T16:05:57.835961Z"
    }
   },
   "source": [
    "#importing necessary libraries"
   ],
   "outputs": [],
   "execution_count": 3
  },
  {
   "cell_type": "code",
   "id": "c0f66ce6",
   "metadata": {
    "ExecuteTime": {
     "end_time": "2025-10-27T16:05:57.844848Z",
     "start_time": "2025-10-27T16:05:57.842939Z"
    }
   },
   "source": [
    "import pandas as pd\n",
    "import numpy as np\n",
    "import matplotlib.pyplot as plt\n",
    "import seaborn as sns\n",
    "import warnings\n",
    "warnings.filterwarnings(action='ignore')"
   ],
   "outputs": [],
   "execution_count": 4
  },
  {
   "cell_type": "code",
   "id": "c6c9c264",
   "metadata": {
    "ExecuteTime": {
     "end_time": "2025-10-27T16:05:57.851693Z",
     "start_time": "2025-10-27T16:05:57.849937Z"
    }
   },
   "source": [
    "#setting max columns as none"
   ],
   "outputs": [],
   "execution_count": 5
  },
  {
   "cell_type": "code",
   "id": "4276e196",
   "metadata": {
    "ExecuteTime": {
     "end_time": "2025-10-27T16:05:57.859639Z",
     "start_time": "2025-10-27T16:05:57.858084Z"
    }
   },
   "source": [
    "pd.set_option('display.max_columns', None)"
   ],
   "outputs": [],
   "execution_count": 6
  },
  {
   "cell_type": "code",
   "id": "2bfcb541",
   "metadata": {
    "ExecuteTime": {
     "end_time": "2025-10-27T16:05:57.865871Z",
     "start_time": "2025-10-27T16:05:57.864591Z"
    }
   },
   "source": [
    "#reading the dataset"
   ],
   "outputs": [],
   "execution_count": 7
  },
  {
   "cell_type": "code",
   "id": "d878f111",
   "metadata": {
    "ExecuteTime": {
     "end_time": "2025-10-27T16:05:57.882330Z",
     "start_time": "2025-10-27T16:05:57.871927Z"
    }
   },
   "source": [
    "df=pd.read_csv(\"../additional_material/Sleep_health_and_lifestyle_dataset.csv\")\n",
    "df.head(5)"
   ],
   "outputs": [
    {
     "data": {
      "text/plain": [
       "   Person ID Gender  Age            Occupation  Sleep Duration  \\\n",
       "0          1   Male   27     Software Engineer             6.1   \n",
       "1          2   Male   28                Doctor             6.2   \n",
       "2          3   Male   28                Doctor             6.2   \n",
       "3          4   Male   28  Sales Representative             5.9   \n",
       "4          5   Male   28  Sales Representative             5.9   \n",
       "\n",
       "   Quality of Sleep  Physical Activity Level  Stress Level BMI Category  \\\n",
       "0                 6                       42             6   Overweight   \n",
       "1                 6                       60             8       Normal   \n",
       "2                 6                       60             8       Normal   \n",
       "3                 4                       30             8        Obese   \n",
       "4                 4                       30             8        Obese   \n",
       "\n",
       "  Blood Pressure  Heart Rate  Daily Steps Sleep Disorder  \n",
       "0         126/83          77         4200            NaN  \n",
       "1         125/80          75        10000            NaN  \n",
       "2         125/80          75        10000            NaN  \n",
       "3         140/90          85         3000    Sleep Apnea  \n",
       "4         140/90          85         3000    Sleep Apnea  "
      ],
      "text/html": [
       "<div>\n",
       "<style scoped>\n",
       "    .dataframe tbody tr th:only-of-type {\n",
       "        vertical-align: middle;\n",
       "    }\n",
       "\n",
       "    .dataframe tbody tr th {\n",
       "        vertical-align: top;\n",
       "    }\n",
       "\n",
       "    .dataframe thead th {\n",
       "        text-align: right;\n",
       "    }\n",
       "</style>\n",
       "<table border=\"1\" class=\"dataframe\">\n",
       "  <thead>\n",
       "    <tr style=\"text-align: right;\">\n",
       "      <th></th>\n",
       "      <th>Person ID</th>\n",
       "      <th>Gender</th>\n",
       "      <th>Age</th>\n",
       "      <th>Occupation</th>\n",
       "      <th>Sleep Duration</th>\n",
       "      <th>Quality of Sleep</th>\n",
       "      <th>Physical Activity Level</th>\n",
       "      <th>Stress Level</th>\n",
       "      <th>BMI Category</th>\n",
       "      <th>Blood Pressure</th>\n",
       "      <th>Heart Rate</th>\n",
       "      <th>Daily Steps</th>\n",
       "      <th>Sleep Disorder</th>\n",
       "    </tr>\n",
       "  </thead>\n",
       "  <tbody>\n",
       "    <tr>\n",
       "      <th>0</th>\n",
       "      <td>1</td>\n",
       "      <td>Male</td>\n",
       "      <td>27</td>\n",
       "      <td>Software Engineer</td>\n",
       "      <td>6.1</td>\n",
       "      <td>6</td>\n",
       "      <td>42</td>\n",
       "      <td>6</td>\n",
       "      <td>Overweight</td>\n",
       "      <td>126/83</td>\n",
       "      <td>77</td>\n",
       "      <td>4200</td>\n",
       "      <td>NaN</td>\n",
       "    </tr>\n",
       "    <tr>\n",
       "      <th>1</th>\n",
       "      <td>2</td>\n",
       "      <td>Male</td>\n",
       "      <td>28</td>\n",
       "      <td>Doctor</td>\n",
       "      <td>6.2</td>\n",
       "      <td>6</td>\n",
       "      <td>60</td>\n",
       "      <td>8</td>\n",
       "      <td>Normal</td>\n",
       "      <td>125/80</td>\n",
       "      <td>75</td>\n",
       "      <td>10000</td>\n",
       "      <td>NaN</td>\n",
       "    </tr>\n",
       "    <tr>\n",
       "      <th>2</th>\n",
       "      <td>3</td>\n",
       "      <td>Male</td>\n",
       "      <td>28</td>\n",
       "      <td>Doctor</td>\n",
       "      <td>6.2</td>\n",
       "      <td>6</td>\n",
       "      <td>60</td>\n",
       "      <td>8</td>\n",
       "      <td>Normal</td>\n",
       "      <td>125/80</td>\n",
       "      <td>75</td>\n",
       "      <td>10000</td>\n",
       "      <td>NaN</td>\n",
       "    </tr>\n",
       "    <tr>\n",
       "      <th>3</th>\n",
       "      <td>4</td>\n",
       "      <td>Male</td>\n",
       "      <td>28</td>\n",
       "      <td>Sales Representative</td>\n",
       "      <td>5.9</td>\n",
       "      <td>4</td>\n",
       "      <td>30</td>\n",
       "      <td>8</td>\n",
       "      <td>Obese</td>\n",
       "      <td>140/90</td>\n",
       "      <td>85</td>\n",
       "      <td>3000</td>\n",
       "      <td>Sleep Apnea</td>\n",
       "    </tr>\n",
       "    <tr>\n",
       "      <th>4</th>\n",
       "      <td>5</td>\n",
       "      <td>Male</td>\n",
       "      <td>28</td>\n",
       "      <td>Sales Representative</td>\n",
       "      <td>5.9</td>\n",
       "      <td>4</td>\n",
       "      <td>30</td>\n",
       "      <td>8</td>\n",
       "      <td>Obese</td>\n",
       "      <td>140/90</td>\n",
       "      <td>85</td>\n",
       "      <td>3000</td>\n",
       "      <td>Sleep Apnea</td>\n",
       "    </tr>\n",
       "  </tbody>\n",
       "</table>\n",
       "</div>"
      ]
     },
     "execution_count": 8,
     "metadata": {},
     "output_type": "execute_result"
    }
   ],
   "execution_count": 8
  },
  {
   "cell_type": "code",
   "id": "8f347efd",
   "metadata": {
    "ExecuteTime": {
     "end_time": "2025-10-27T16:05:57.887475Z",
     "start_time": "2025-10-27T16:05:57.886035Z"
    }
   },
   "source": [
    "#checking the shape of data"
   ],
   "outputs": [],
   "execution_count": 9
  },
  {
   "cell_type": "code",
   "id": "8bac4fe5",
   "metadata": {
    "ExecuteTime": {
     "end_time": "2025-10-27T16:05:57.909296Z",
     "start_time": "2025-10-27T16:05:57.907080Z"
    }
   },
   "source": [
    "df.shape"
   ],
   "outputs": [
    {
     "data": {
      "text/plain": [
       "(374, 13)"
      ]
     },
     "execution_count": 10,
     "metadata": {},
     "output_type": "execute_result"
    }
   ],
   "execution_count": 10
  },
  {
   "cell_type": "code",
   "id": "66c519bd",
   "metadata": {
    "ExecuteTime": {
     "end_time": "2025-10-27T16:05:57.919370Z",
     "start_time": "2025-10-27T16:05:57.917991Z"
    }
   },
   "source": [
    "#no of rows"
   ],
   "outputs": [],
   "execution_count": 11
  },
  {
   "cell_type": "code",
   "id": "89f3668c",
   "metadata": {
    "ExecuteTime": {
     "end_time": "2025-10-27T16:05:57.936667Z",
     "start_time": "2025-10-27T16:05:57.934835Z"
    }
   },
   "source": [
    "print(\"no of rows are:\", df.shape[0])"
   ],
   "outputs": [
    {
     "name": "stdout",
     "output_type": "stream",
     "text": [
      "no of rows are: 374\n"
     ]
    }
   ],
   "execution_count": 12
  },
  {
   "cell_type": "code",
   "id": "45d3371a",
   "metadata": {
    "ExecuteTime": {
     "end_time": "2025-10-27T16:05:57.947686Z",
     "start_time": "2025-10-27T16:05:57.946170Z"
    }
   },
   "source": [
    "#no of columns"
   ],
   "outputs": [],
   "execution_count": 13
  },
  {
   "cell_type": "code",
   "id": "d69fc508",
   "metadata": {
    "ExecuteTime": {
     "end_time": "2025-10-27T16:05:57.957473Z",
     "start_time": "2025-10-27T16:05:57.955942Z"
    }
   },
   "source": [
    "print(\"no of columns are:\",df.shape[1])"
   ],
   "outputs": [
    {
     "name": "stdout",
     "output_type": "stream",
     "text": [
      "no of columns are: 13\n"
     ]
    }
   ],
   "execution_count": 14
  },
  {
   "cell_type": "code",
   "id": "db4d1bc4",
   "metadata": {
    "ExecuteTime": {
     "end_time": "2025-10-27T16:05:57.969501Z",
     "start_time": "2025-10-27T16:05:57.968231Z"
    }
   },
   "source": [
    "#2"
   ],
   "outputs": [],
   "execution_count": 15
  },
  {
   "cell_type": "code",
   "id": "4d69a11c",
   "metadata": {
    "ExecuteTime": {
     "end_time": "2025-10-27T16:05:57.979425Z",
     "start_time": "2025-10-27T16:05:57.978041Z"
    }
   },
   "source": [
    "#checking the datatypes of data"
   ],
   "outputs": [],
   "execution_count": 16
  },
  {
   "cell_type": "code",
   "id": "68de0f7e",
   "metadata": {
    "ExecuteTime": {
     "end_time": "2025-10-27T16:05:57.986636Z",
     "start_time": "2025-10-27T16:05:57.983110Z"
    }
   },
   "source": [
    "df.info()"
   ],
   "outputs": [
    {
     "name": "stdout",
     "output_type": "stream",
     "text": [
      "<class 'pandas.core.frame.DataFrame'>\n",
      "RangeIndex: 374 entries, 0 to 373\n",
      "Data columns (total 13 columns):\n",
      " #   Column                   Non-Null Count  Dtype  \n",
      "---  ------                   --------------  -----  \n",
      " 0   Person ID                374 non-null    int64  \n",
      " 1   Gender                   374 non-null    object \n",
      " 2   Age                      374 non-null    int64  \n",
      " 3   Occupation               374 non-null    object \n",
      " 4   Sleep Duration           374 non-null    float64\n",
      " 5   Quality of Sleep         374 non-null    int64  \n",
      " 6   Physical Activity Level  374 non-null    int64  \n",
      " 7   Stress Level             374 non-null    int64  \n",
      " 8   BMI Category             374 non-null    object \n",
      " 9   Blood Pressure           374 non-null    object \n",
      " 10  Heart Rate               374 non-null    int64  \n",
      " 11  Daily Steps              374 non-null    int64  \n",
      " 12  Sleep Disorder           155 non-null    object \n",
      "dtypes: float64(1), int64(7), object(5)\n",
      "memory usage: 38.1+ KB\n"
     ]
    }
   ],
   "execution_count": 17
  },
  {
   "cell_type": "code",
   "id": "fbbf3769",
   "metadata": {
    "ExecuteTime": {
     "end_time": "2025-10-27T16:05:57.994829Z",
     "start_time": "2025-10-27T16:05:57.993548Z"
    }
   },
   "source": [
    "#checking the null values in the dataset"
   ],
   "outputs": [],
   "execution_count": 18
  },
  {
   "cell_type": "code",
   "id": "6fbc3097",
   "metadata": {
    "ExecuteTime": {
     "end_time": "2025-10-27T16:05:58.009976Z",
     "start_time": "2025-10-27T16:05:58.006554Z"
    }
   },
   "source": [
    "df.isnull().sum()"
   ],
   "outputs": [
    {
     "data": {
      "text/plain": [
       "Person ID                    0\n",
       "Gender                       0\n",
       "Age                          0\n",
       "Occupation                   0\n",
       "Sleep Duration               0\n",
       "Quality of Sleep             0\n",
       "Physical Activity Level      0\n",
       "Stress Level                 0\n",
       "BMI Category                 0\n",
       "Blood Pressure               0\n",
       "Heart Rate                   0\n",
       "Daily Steps                  0\n",
       "Sleep Disorder             219\n",
       "dtype: int64"
      ]
     },
     "execution_count": 19,
     "metadata": {},
     "output_type": "execute_result"
    }
   ],
   "execution_count": 19
  },
  {
   "cell_type": "code",
   "id": "b577d827",
   "metadata": {
    "ExecuteTime": {
     "end_time": "2025-10-27T16:05:58.020004Z",
     "start_time": "2025-10-27T16:05:58.018598Z"
    }
   },
   "source": [
    "#unique values and count of unique values of each column"
   ],
   "outputs": [],
   "execution_count": 20
  },
  {
   "cell_type": "code",
   "id": "b74bf698",
   "metadata": {
    "ExecuteTime": {
     "end_time": "2025-10-27T16:05:58.038881Z",
     "start_time": "2025-10-27T16:05:58.035976Z"
    }
   },
   "source": [
    "df['Gender'].unique()"
   ],
   "outputs": [
    {
     "data": {
      "text/plain": [
       "array(['Male', 'Female'], dtype=object)"
      ]
     },
     "execution_count": 21,
     "metadata": {},
     "output_type": "execute_result"
    }
   ],
   "execution_count": 21
  },
  {
   "cell_type": "code",
   "id": "518ef045",
   "metadata": {
    "ExecuteTime": {
     "end_time": "2025-10-27T16:05:58.050524Z",
     "start_time": "2025-10-27T16:05:58.048044Z"
    }
   },
   "source": [
    "df['Gender'].nunique()"
   ],
   "outputs": [
    {
     "data": {
      "text/plain": [
       "2"
      ]
     },
     "execution_count": 22,
     "metadata": {},
     "output_type": "execute_result"
    }
   ],
   "execution_count": 22
  },
  {
   "cell_type": "code",
   "id": "047e5813",
   "metadata": {
    "ExecuteTime": {
     "end_time": "2025-10-27T16:05:58.058287Z",
     "start_time": "2025-10-27T16:05:58.055956Z"
    }
   },
   "source": [
    "df['Person ID'].unique()"
   ],
   "outputs": [
    {
     "data": {
      "text/plain": [
       "array([  1,   2,   3,   4,   5,   6,   7,   8,   9,  10,  11,  12,  13,\n",
       "        14,  15,  16,  17,  18,  19,  20,  21,  22,  23,  24,  25,  26,\n",
       "        27,  28,  29,  30,  31,  32,  33,  34,  35,  36,  37,  38,  39,\n",
       "        40,  41,  42,  43,  44,  45,  46,  47,  48,  49,  50,  51,  52,\n",
       "        53,  54,  55,  56,  57,  58,  59,  60,  61,  62,  63,  64,  65,\n",
       "        66,  67,  68,  69,  70,  71,  72,  73,  74,  75,  76,  77,  78,\n",
       "        79,  80,  81,  82,  83,  84,  85,  86,  87,  88,  89,  90,  91,\n",
       "        92,  93,  94,  95,  96,  97,  98,  99, 100, 101, 102, 103, 104,\n",
       "       105, 106, 107, 108, 109, 110, 111, 112, 113, 114, 115, 116, 117,\n",
       "       118, 119, 120, 121, 122, 123, 124, 125, 126, 127, 128, 129, 130,\n",
       "       131, 132, 133, 134, 135, 136, 137, 138, 139, 140, 141, 142, 143,\n",
       "       144, 145, 146, 147, 148, 149, 150, 151, 152, 153, 154, 155, 156,\n",
       "       157, 158, 159, 160, 161, 162, 163, 164, 165, 166, 167, 168, 169,\n",
       "       170, 171, 172, 173, 174, 175, 176, 177, 178, 179, 180, 181, 182,\n",
       "       183, 184, 185, 186, 187, 188, 189, 190, 191, 192, 193, 194, 195,\n",
       "       196, 197, 198, 199, 200, 201, 202, 203, 204, 205, 206, 207, 208,\n",
       "       209, 210, 211, 212, 213, 214, 215, 216, 217, 218, 219, 220, 221,\n",
       "       222, 223, 224, 225, 226, 227, 228, 229, 230, 231, 232, 233, 234,\n",
       "       235, 236, 237, 238, 239, 240, 241, 242, 243, 244, 245, 246, 247,\n",
       "       248, 249, 250, 251, 252, 253, 254, 255, 256, 257, 258, 259, 260,\n",
       "       261, 262, 263, 264, 265, 266, 267, 268, 269, 270, 271, 272, 273,\n",
       "       274, 275, 276, 277, 278, 279, 280, 281, 282, 283, 284, 285, 286,\n",
       "       287, 288, 289, 290, 291, 292, 293, 294, 295, 296, 297, 298, 299,\n",
       "       300, 301, 302, 303, 304, 305, 306, 307, 308, 309, 310, 311, 312,\n",
       "       313, 314, 315, 316, 317, 318, 319, 320, 321, 322, 323, 324, 325,\n",
       "       326, 327, 328, 329, 330, 331, 332, 333, 334, 335, 336, 337, 338,\n",
       "       339, 340, 341, 342, 343, 344, 345, 346, 347, 348, 349, 350, 351,\n",
       "       352, 353, 354, 355, 356, 357, 358, 359, 360, 361, 362, 363, 364,\n",
       "       365, 366, 367, 368, 369, 370, 371, 372, 373, 374])"
      ]
     },
     "execution_count": 23,
     "metadata": {},
     "output_type": "execute_result"
    }
   ],
   "execution_count": 23
  },
  {
   "cell_type": "code",
   "id": "f8eb39a1",
   "metadata": {
    "ExecuteTime": {
     "end_time": "2025-10-27T16:05:58.071286Z",
     "start_time": "2025-10-27T16:05:58.069252Z"
    }
   },
   "source": [
    "df['Person ID'].nunique()"
   ],
   "outputs": [
    {
     "data": {
      "text/plain": [
       "374"
      ]
     },
     "execution_count": 24,
     "metadata": {},
     "output_type": "execute_result"
    }
   ],
   "execution_count": 24
  },
  {
   "cell_type": "code",
   "id": "383a9936",
   "metadata": {
    "ExecuteTime": {
     "end_time": "2025-10-27T16:05:58.079684Z",
     "start_time": "2025-10-27T16:05:58.077297Z"
    }
   },
   "source": [
    "df['Age'].unique()"
   ],
   "outputs": [
    {
     "data": {
      "text/plain": [
       "array([27, 28, 29, 30, 31, 32, 33, 34, 35, 36, 37, 38, 39, 40, 41, 42, 43,\n",
       "       44, 45, 48, 49, 50, 51, 52, 53, 54, 55, 56, 57, 58, 59])"
      ]
     },
     "execution_count": 25,
     "metadata": {},
     "output_type": "execute_result"
    }
   ],
   "execution_count": 25
  },
  {
   "cell_type": "code",
   "id": "b18bb6eb",
   "metadata": {
    "ExecuteTime": {
     "end_time": "2025-10-27T16:05:58.091014Z",
     "start_time": "2025-10-27T16:05:58.089170Z"
    }
   },
   "source": [
    "df['Age'].nunique()"
   ],
   "outputs": [
    {
     "data": {
      "text/plain": [
       "31"
      ]
     },
     "execution_count": 26,
     "metadata": {},
     "output_type": "execute_result"
    }
   ],
   "execution_count": 26
  },
  {
   "cell_type": "code",
   "id": "0f70452d",
   "metadata": {
    "ExecuteTime": {
     "end_time": "2025-10-27T16:05:58.103920Z",
     "start_time": "2025-10-27T16:05:58.101957Z"
    }
   },
   "source": [
    "df['Occupation'].unique()"
   ],
   "outputs": [
    {
     "data": {
      "text/plain": [
       "array(['Software Engineer', 'Doctor', 'Sales Representative', 'Teacher',\n",
       "       'Nurse', 'Engineer', 'Accountant', 'Scientist', 'Lawyer',\n",
       "       'Salesperson', 'Manager'], dtype=object)"
      ]
     },
     "execution_count": 27,
     "metadata": {},
     "output_type": "execute_result"
    }
   ],
   "execution_count": 27
  },
  {
   "cell_type": "code",
   "id": "2f4b7a83",
   "metadata": {
    "ExecuteTime": {
     "end_time": "2025-10-27T16:05:58.114594Z",
     "start_time": "2025-10-27T16:05:58.112340Z"
    }
   },
   "source": [
    "df['Occupation'].nunique()"
   ],
   "outputs": [
    {
     "data": {
      "text/plain": [
       "11"
      ]
     },
     "execution_count": 28,
     "metadata": {},
     "output_type": "execute_result"
    }
   ],
   "execution_count": 28
  },
  {
   "cell_type": "code",
   "id": "7ecf95b8",
   "metadata": {
    "ExecuteTime": {
     "end_time": "2025-10-27T16:05:58.124796Z",
     "start_time": "2025-10-27T16:05:58.122549Z"
    }
   },
   "source": [
    "df['Sleep Duration'].unique()"
   ],
   "outputs": [
    {
     "data": {
      "text/plain": [
       "array([6.1, 6.2, 5.9, 6.3, 7.8, 6. , 6.5, 7.6, 7.7, 7.9, 6.4, 7.5, 7.2,\n",
       "       5.8, 6.7, 7.3, 7.4, 7.1, 6.6, 6.9, 8. , 6.8, 8.1, 8.3, 8.5, 8.4,\n",
       "       8.2])"
      ]
     },
     "execution_count": 29,
     "metadata": {},
     "output_type": "execute_result"
    }
   ],
   "execution_count": 29
  },
  {
   "cell_type": "code",
   "id": "387ce1df",
   "metadata": {
    "ExecuteTime": {
     "end_time": "2025-10-27T16:05:58.138222Z",
     "start_time": "2025-10-27T16:05:58.136327Z"
    }
   },
   "source": [
    "df['Sleep Duration'].nunique()"
   ],
   "outputs": [
    {
     "data": {
      "text/plain": [
       "27"
      ]
     },
     "execution_count": 30,
     "metadata": {},
     "output_type": "execute_result"
    }
   ],
   "execution_count": 30
  },
  {
   "cell_type": "code",
   "id": "47d8a918",
   "metadata": {
    "ExecuteTime": {
     "end_time": "2025-10-27T16:05:58.150500Z",
     "start_time": "2025-10-27T16:05:58.148038Z"
    }
   },
   "source": [
    "df['Quality of Sleep'].unique()"
   ],
   "outputs": [
    {
     "data": {
      "text/plain": [
       "array([6, 4, 7, 5, 8, 9])"
      ]
     },
     "execution_count": 31,
     "metadata": {},
     "output_type": "execute_result"
    }
   ],
   "execution_count": 31
  },
  {
   "cell_type": "code",
   "id": "6f8ee0ab",
   "metadata": {
    "ExecuteTime": {
     "end_time": "2025-10-27T16:05:58.157438Z",
     "start_time": "2025-10-27T16:05:58.154736Z"
    }
   },
   "source": [
    "df['Quality of Sleep'].nunique()"
   ],
   "outputs": [
    {
     "data": {
      "text/plain": [
       "6"
      ]
     },
     "execution_count": 32,
     "metadata": {},
     "output_type": "execute_result"
    }
   ],
   "execution_count": 32
  },
  {
   "cell_type": "code",
   "id": "2f188584",
   "metadata": {
    "ExecuteTime": {
     "end_time": "2025-10-27T16:05:58.168945Z",
     "start_time": "2025-10-27T16:05:58.166958Z"
    }
   },
   "source": [
    "df['Physical Activity Level'].unique()"
   ],
   "outputs": [
    {
     "data": {
      "text/plain": [
       "array([42, 60, 30, 40, 75, 35, 45, 50, 32, 70, 80, 55, 90, 47, 65, 85])"
      ]
     },
     "execution_count": 33,
     "metadata": {},
     "output_type": "execute_result"
    }
   ],
   "execution_count": 33
  },
  {
   "cell_type": "code",
   "id": "c6622b94",
   "metadata": {
    "ExecuteTime": {
     "end_time": "2025-10-27T16:05:58.178117Z",
     "start_time": "2025-10-27T16:05:58.176166Z"
    }
   },
   "source": [
    "df['Physical Activity Level'].nunique()"
   ],
   "outputs": [
    {
     "data": {
      "text/plain": [
       "16"
      ]
     },
     "execution_count": 34,
     "metadata": {},
     "output_type": "execute_result"
    }
   ],
   "execution_count": 34
  },
  {
   "cell_type": "code",
   "id": "9d71de58",
   "metadata": {
    "ExecuteTime": {
     "end_time": "2025-10-27T16:05:58.187432Z",
     "start_time": "2025-10-27T16:05:58.185084Z"
    }
   },
   "source": [
    "df['Stress Level'].unique()"
   ],
   "outputs": [
    {
     "data": {
      "text/plain": [
       "array([6, 8, 7, 4, 3, 5])"
      ]
     },
     "execution_count": 35,
     "metadata": {},
     "output_type": "execute_result"
    }
   ],
   "execution_count": 35
  },
  {
   "cell_type": "code",
   "id": "8e04b78b",
   "metadata": {
    "ExecuteTime": {
     "end_time": "2025-10-27T16:05:58.195272Z",
     "start_time": "2025-10-27T16:05:58.192880Z"
    }
   },
   "source": [
    "df['Stress Level'].nunique()"
   ],
   "outputs": [
    {
     "data": {
      "text/plain": [
       "6"
      ]
     },
     "execution_count": 36,
     "metadata": {},
     "output_type": "execute_result"
    }
   ],
   "execution_count": 36
  },
  {
   "cell_type": "code",
   "id": "346d4802",
   "metadata": {
    "ExecuteTime": {
     "end_time": "2025-10-27T16:05:58.203963Z",
     "start_time": "2025-10-27T16:05:58.201680Z"
    }
   },
   "source": [
    "df['BMI Category'].unique()"
   ],
   "outputs": [
    {
     "data": {
      "text/plain": [
       "array(['Overweight', 'Normal', 'Obese', 'Normal Weight'], dtype=object)"
      ]
     },
     "execution_count": 37,
     "metadata": {},
     "output_type": "execute_result"
    }
   ],
   "execution_count": 37
  },
  {
   "cell_type": "code",
   "id": "14944fa4",
   "metadata": {
    "ExecuteTime": {
     "end_time": "2025-10-27T16:05:58.210968Z",
     "start_time": "2025-10-27T16:05:58.209045Z"
    }
   },
   "source": [
    "df['BMI Category'].nunique()"
   ],
   "outputs": [
    {
     "data": {
      "text/plain": [
       "4"
      ]
     },
     "execution_count": 38,
     "metadata": {},
     "output_type": "execute_result"
    }
   ],
   "execution_count": 38
  },
  {
   "cell_type": "code",
   "id": "1f6f3b50",
   "metadata": {
    "ExecuteTime": {
     "end_time": "2025-10-27T16:05:58.218041Z",
     "start_time": "2025-10-27T16:05:58.216125Z"
    }
   },
   "source": [
    "df['Blood Pressure'].unique()"
   ],
   "outputs": [
    {
     "data": {
      "text/plain": [
       "array(['126/83', '125/80', '140/90', '120/80', '132/87', '130/86',\n",
       "       '117/76', '118/76', '128/85', '131/86', '128/84', '115/75',\n",
       "       '135/88', '129/84', '130/85', '115/78', '119/77', '121/79',\n",
       "       '125/82', '135/90', '122/80', '142/92', '140/95', '139/91',\n",
       "       '118/75'], dtype=object)"
      ]
     },
     "execution_count": 39,
     "metadata": {},
     "output_type": "execute_result"
    }
   ],
   "execution_count": 39
  },
  {
   "cell_type": "code",
   "id": "b10fed51",
   "metadata": {
    "ExecuteTime": {
     "end_time": "2025-10-27T16:05:58.259097Z",
     "start_time": "2025-10-27T16:05:58.257117Z"
    }
   },
   "source": [
    "df['Blood Pressure'].nunique()"
   ],
   "outputs": [
    {
     "data": {
      "text/plain": [
       "25"
      ]
     },
     "execution_count": 40,
     "metadata": {},
     "output_type": "execute_result"
    }
   ],
   "execution_count": 40
  },
  {
   "cell_type": "code",
   "id": "c7385453",
   "metadata": {
    "ExecuteTime": {
     "end_time": "2025-10-27T16:05:58.271504Z",
     "start_time": "2025-10-27T16:05:58.268744Z"
    }
   },
   "source": [
    "df['Heart Rate'].unique()"
   ],
   "outputs": [
    {
     "data": {
      "text/plain": [
       "array([77, 75, 85, 82, 70, 80, 78, 69, 72, 68, 76, 81, 65, 84, 74, 67, 73,\n",
       "       83, 86])"
      ]
     },
     "execution_count": 41,
     "metadata": {},
     "output_type": "execute_result"
    }
   ],
   "execution_count": 41
  },
  {
   "cell_type": "code",
   "id": "db24e61a",
   "metadata": {
    "ExecuteTime": {
     "end_time": "2025-10-27T16:05:58.282761Z",
     "start_time": "2025-10-27T16:05:58.280322Z"
    }
   },
   "source": [
    "df['Heart Rate'].nunique()"
   ],
   "outputs": [
    {
     "data": {
      "text/plain": [
       "19"
      ]
     },
     "execution_count": 42,
     "metadata": {},
     "output_type": "execute_result"
    }
   ],
   "execution_count": 42
  },
  {
   "cell_type": "code",
   "id": "e2955894",
   "metadata": {
    "ExecuteTime": {
     "end_time": "2025-10-27T16:05:58.292820Z",
     "start_time": "2025-10-27T16:05:58.290357Z"
    }
   },
   "source": [
    "df['Daily Steps'].unique()"
   ],
   "outputs": [
    {
     "data": {
      "text/plain": [
       "array([ 4200, 10000,  3000,  3500,  8000,  4000,  4100,  6800,  5000,\n",
       "        7000,  5500,  5200,  5600,  3300,  4800,  7500,  7300,  6200,\n",
       "        6000,  3700])"
      ]
     },
     "execution_count": 43,
     "metadata": {},
     "output_type": "execute_result"
    }
   ],
   "execution_count": 43
  },
  {
   "cell_type": "code",
   "id": "39c7600f",
   "metadata": {
    "ExecuteTime": {
     "end_time": "2025-10-27T16:05:58.303820Z",
     "start_time": "2025-10-27T16:05:58.302037Z"
    }
   },
   "source": [
    "df['Daily Steps'].nunique()"
   ],
   "outputs": [
    {
     "data": {
      "text/plain": [
       "20"
      ]
     },
     "execution_count": 44,
     "metadata": {},
     "output_type": "execute_result"
    }
   ],
   "execution_count": 44
  },
  {
   "cell_type": "code",
   "id": "302f5b18",
   "metadata": {
    "ExecuteTime": {
     "end_time": "2025-10-27T16:05:58.315546Z",
     "start_time": "2025-10-27T16:05:58.312943Z"
    }
   },
   "source": [
    "df['Sleep Disorder'].unique()"
   ],
   "outputs": [
    {
     "data": {
      "text/plain": [
       "array([nan, 'Sleep Apnea', 'Insomnia'], dtype=object)"
      ]
     },
     "execution_count": 45,
     "metadata": {},
     "output_type": "execute_result"
    }
   ],
   "execution_count": 45
  },
  {
   "cell_type": "code",
   "id": "9713c765",
   "metadata": {
    "ExecuteTime": {
     "end_time": "2025-10-27T16:05:58.337596Z",
     "start_time": "2025-10-27T16:05:58.333948Z"
    }
   },
   "source": [
    "df['Sleep Disorder'].nunique()"
   ],
   "outputs": [
    {
     "data": {
      "text/plain": [
       "2"
      ]
     },
     "execution_count": 46,
     "metadata": {},
     "output_type": "execute_result"
    }
   ],
   "execution_count": 46
  },
  {
   "cell_type": "code",
   "id": "9fee5b70",
   "metadata": {
    "ExecuteTime": {
     "end_time": "2025-10-27T16:05:58.363815Z",
     "start_time": "2025-10-27T16:05:58.358387Z"
    }
   },
   "source": [
    "#3"
   ],
   "outputs": [],
   "execution_count": 47
  },
  {
   "cell_type": "code",
   "id": "7bd711e8",
   "metadata": {
    "ExecuteTime": {
     "end_time": "2025-10-27T16:05:58.373923Z",
     "start_time": "2025-10-27T16:05:58.371675Z"
    }
   },
   "source": [
    "#checking descriptive statistics of data"
   ],
   "outputs": [],
   "execution_count": 48
  },
  {
   "cell_type": "code",
   "id": "07ab9eee",
   "metadata": {
    "ExecuteTime": {
     "end_time": "2025-10-27T16:05:58.391097Z",
     "start_time": "2025-10-27T16:05:58.380411Z"
    }
   },
   "source": [
    "df.describe()"
   ],
   "outputs": [
    {
     "data": {
      "text/plain": [
       "        Person ID         Age  Sleep Duration  Quality of Sleep  \\\n",
       "count  374.000000  374.000000      374.000000        374.000000   \n",
       "mean   187.500000   42.184492        7.132086          7.312834   \n",
       "std    108.108742    8.673133        0.795657          1.196956   \n",
       "min      1.000000   27.000000        5.800000          4.000000   \n",
       "25%     94.250000   35.250000        6.400000          6.000000   \n",
       "50%    187.500000   43.000000        7.200000          7.000000   \n",
       "75%    280.750000   50.000000        7.800000          8.000000   \n",
       "max    374.000000   59.000000        8.500000          9.000000   \n",
       "\n",
       "       Physical Activity Level  Stress Level  Heart Rate   Daily Steps  \n",
       "count               374.000000    374.000000  374.000000    374.000000  \n",
       "mean                 59.171123      5.385027   70.165775   6816.844920  \n",
       "std                  20.830804      1.774526    4.135676   1617.915679  \n",
       "min                  30.000000      3.000000   65.000000   3000.000000  \n",
       "25%                  45.000000      4.000000   68.000000   5600.000000  \n",
       "50%                  60.000000      5.000000   70.000000   7000.000000  \n",
       "75%                  75.000000      7.000000   72.000000   8000.000000  \n",
       "max                  90.000000      8.000000   86.000000  10000.000000  "
      ],
      "text/html": [
       "<div>\n",
       "<style scoped>\n",
       "    .dataframe tbody tr th:only-of-type {\n",
       "        vertical-align: middle;\n",
       "    }\n",
       "\n",
       "    .dataframe tbody tr th {\n",
       "        vertical-align: top;\n",
       "    }\n",
       "\n",
       "    .dataframe thead th {\n",
       "        text-align: right;\n",
       "    }\n",
       "</style>\n",
       "<table border=\"1\" class=\"dataframe\">\n",
       "  <thead>\n",
       "    <tr style=\"text-align: right;\">\n",
       "      <th></th>\n",
       "      <th>Person ID</th>\n",
       "      <th>Age</th>\n",
       "      <th>Sleep Duration</th>\n",
       "      <th>Quality of Sleep</th>\n",
       "      <th>Physical Activity Level</th>\n",
       "      <th>Stress Level</th>\n",
       "      <th>Heart Rate</th>\n",
       "      <th>Daily Steps</th>\n",
       "    </tr>\n",
       "  </thead>\n",
       "  <tbody>\n",
       "    <tr>\n",
       "      <th>count</th>\n",
       "      <td>374.000000</td>\n",
       "      <td>374.000000</td>\n",
       "      <td>374.000000</td>\n",
       "      <td>374.000000</td>\n",
       "      <td>374.000000</td>\n",
       "      <td>374.000000</td>\n",
       "      <td>374.000000</td>\n",
       "      <td>374.000000</td>\n",
       "    </tr>\n",
       "    <tr>\n",
       "      <th>mean</th>\n",
       "      <td>187.500000</td>\n",
       "      <td>42.184492</td>\n",
       "      <td>7.132086</td>\n",
       "      <td>7.312834</td>\n",
       "      <td>59.171123</td>\n",
       "      <td>5.385027</td>\n",
       "      <td>70.165775</td>\n",
       "      <td>6816.844920</td>\n",
       "    </tr>\n",
       "    <tr>\n",
       "      <th>std</th>\n",
       "      <td>108.108742</td>\n",
       "      <td>8.673133</td>\n",
       "      <td>0.795657</td>\n",
       "      <td>1.196956</td>\n",
       "      <td>20.830804</td>\n",
       "      <td>1.774526</td>\n",
       "      <td>4.135676</td>\n",
       "      <td>1617.915679</td>\n",
       "    </tr>\n",
       "    <tr>\n",
       "      <th>min</th>\n",
       "      <td>1.000000</td>\n",
       "      <td>27.000000</td>\n",
       "      <td>5.800000</td>\n",
       "      <td>4.000000</td>\n",
       "      <td>30.000000</td>\n",
       "      <td>3.000000</td>\n",
       "      <td>65.000000</td>\n",
       "      <td>3000.000000</td>\n",
       "    </tr>\n",
       "    <tr>\n",
       "      <th>25%</th>\n",
       "      <td>94.250000</td>\n",
       "      <td>35.250000</td>\n",
       "      <td>6.400000</td>\n",
       "      <td>6.000000</td>\n",
       "      <td>45.000000</td>\n",
       "      <td>4.000000</td>\n",
       "      <td>68.000000</td>\n",
       "      <td>5600.000000</td>\n",
       "    </tr>\n",
       "    <tr>\n",
       "      <th>50%</th>\n",
       "      <td>187.500000</td>\n",
       "      <td>43.000000</td>\n",
       "      <td>7.200000</td>\n",
       "      <td>7.000000</td>\n",
       "      <td>60.000000</td>\n",
       "      <td>5.000000</td>\n",
       "      <td>70.000000</td>\n",
       "      <td>7000.000000</td>\n",
       "    </tr>\n",
       "    <tr>\n",
       "      <th>75%</th>\n",
       "      <td>280.750000</td>\n",
       "      <td>50.000000</td>\n",
       "      <td>7.800000</td>\n",
       "      <td>8.000000</td>\n",
       "      <td>75.000000</td>\n",
       "      <td>7.000000</td>\n",
       "      <td>72.000000</td>\n",
       "      <td>8000.000000</td>\n",
       "    </tr>\n",
       "    <tr>\n",
       "      <th>max</th>\n",
       "      <td>374.000000</td>\n",
       "      <td>59.000000</td>\n",
       "      <td>8.500000</td>\n",
       "      <td>9.000000</td>\n",
       "      <td>90.000000</td>\n",
       "      <td>8.000000</td>\n",
       "      <td>86.000000</td>\n",
       "      <td>10000.000000</td>\n",
       "    </tr>\n",
       "  </tbody>\n",
       "</table>\n",
       "</div>"
      ]
     },
     "execution_count": 49,
     "metadata": {},
     "output_type": "execute_result"
    }
   ],
   "execution_count": 49
  },
  {
   "cell_type": "code",
   "id": "a3a6f5ba",
   "metadata": {
    "ExecuteTime": {
     "end_time": "2025-10-27T16:05:58.406736Z",
     "start_time": "2025-10-27T16:05:58.404351Z"
    }
   },
   "source": [
    "#including all the categorical columns in dataset"
   ],
   "outputs": [],
   "execution_count": 50
  },
  {
   "cell_type": "code",
   "id": "4df0bde6",
   "metadata": {
    "ExecuteTime": {
     "end_time": "2025-10-27T16:05:58.417080Z",
     "start_time": "2025-10-27T16:05:58.411732Z"
    }
   },
   "source": [
    "df.select_dtypes(exclude=np.number)"
   ],
   "outputs": [
    {
     "data": {
      "text/plain": [
       "     Gender            Occupation BMI Category Blood Pressure Sleep Disorder\n",
       "0      Male     Software Engineer   Overweight         126/83            NaN\n",
       "1      Male                Doctor       Normal         125/80            NaN\n",
       "2      Male                Doctor       Normal         125/80            NaN\n",
       "3      Male  Sales Representative        Obese         140/90    Sleep Apnea\n",
       "4      Male  Sales Representative        Obese         140/90    Sleep Apnea\n",
       "..      ...                   ...          ...            ...            ...\n",
       "369  Female                 Nurse   Overweight         140/95    Sleep Apnea\n",
       "370  Female                 Nurse   Overweight         140/95    Sleep Apnea\n",
       "371  Female                 Nurse   Overweight         140/95    Sleep Apnea\n",
       "372  Female                 Nurse   Overweight         140/95    Sleep Apnea\n",
       "373  Female                 Nurse   Overweight         140/95    Sleep Apnea\n",
       "\n",
       "[374 rows x 5 columns]"
      ],
      "text/html": [
       "<div>\n",
       "<style scoped>\n",
       "    .dataframe tbody tr th:only-of-type {\n",
       "        vertical-align: middle;\n",
       "    }\n",
       "\n",
       "    .dataframe tbody tr th {\n",
       "        vertical-align: top;\n",
       "    }\n",
       "\n",
       "    .dataframe thead th {\n",
       "        text-align: right;\n",
       "    }\n",
       "</style>\n",
       "<table border=\"1\" class=\"dataframe\">\n",
       "  <thead>\n",
       "    <tr style=\"text-align: right;\">\n",
       "      <th></th>\n",
       "      <th>Gender</th>\n",
       "      <th>Occupation</th>\n",
       "      <th>BMI Category</th>\n",
       "      <th>Blood Pressure</th>\n",
       "      <th>Sleep Disorder</th>\n",
       "    </tr>\n",
       "  </thead>\n",
       "  <tbody>\n",
       "    <tr>\n",
       "      <th>0</th>\n",
       "      <td>Male</td>\n",
       "      <td>Software Engineer</td>\n",
       "      <td>Overweight</td>\n",
       "      <td>126/83</td>\n",
       "      <td>NaN</td>\n",
       "    </tr>\n",
       "    <tr>\n",
       "      <th>1</th>\n",
       "      <td>Male</td>\n",
       "      <td>Doctor</td>\n",
       "      <td>Normal</td>\n",
       "      <td>125/80</td>\n",
       "      <td>NaN</td>\n",
       "    </tr>\n",
       "    <tr>\n",
       "      <th>2</th>\n",
       "      <td>Male</td>\n",
       "      <td>Doctor</td>\n",
       "      <td>Normal</td>\n",
       "      <td>125/80</td>\n",
       "      <td>NaN</td>\n",
       "    </tr>\n",
       "    <tr>\n",
       "      <th>3</th>\n",
       "      <td>Male</td>\n",
       "      <td>Sales Representative</td>\n",
       "      <td>Obese</td>\n",
       "      <td>140/90</td>\n",
       "      <td>Sleep Apnea</td>\n",
       "    </tr>\n",
       "    <tr>\n",
       "      <th>4</th>\n",
       "      <td>Male</td>\n",
       "      <td>Sales Representative</td>\n",
       "      <td>Obese</td>\n",
       "      <td>140/90</td>\n",
       "      <td>Sleep Apnea</td>\n",
       "    </tr>\n",
       "    <tr>\n",
       "      <th>...</th>\n",
       "      <td>...</td>\n",
       "      <td>...</td>\n",
       "      <td>...</td>\n",
       "      <td>...</td>\n",
       "      <td>...</td>\n",
       "    </tr>\n",
       "    <tr>\n",
       "      <th>369</th>\n",
       "      <td>Female</td>\n",
       "      <td>Nurse</td>\n",
       "      <td>Overweight</td>\n",
       "      <td>140/95</td>\n",
       "      <td>Sleep Apnea</td>\n",
       "    </tr>\n",
       "    <tr>\n",
       "      <th>370</th>\n",
       "      <td>Female</td>\n",
       "      <td>Nurse</td>\n",
       "      <td>Overweight</td>\n",
       "      <td>140/95</td>\n",
       "      <td>Sleep Apnea</td>\n",
       "    </tr>\n",
       "    <tr>\n",
       "      <th>371</th>\n",
       "      <td>Female</td>\n",
       "      <td>Nurse</td>\n",
       "      <td>Overweight</td>\n",
       "      <td>140/95</td>\n",
       "      <td>Sleep Apnea</td>\n",
       "    </tr>\n",
       "    <tr>\n",
       "      <th>372</th>\n",
       "      <td>Female</td>\n",
       "      <td>Nurse</td>\n",
       "      <td>Overweight</td>\n",
       "      <td>140/95</td>\n",
       "      <td>Sleep Apnea</td>\n",
       "    </tr>\n",
       "    <tr>\n",
       "      <th>373</th>\n",
       "      <td>Female</td>\n",
       "      <td>Nurse</td>\n",
       "      <td>Overweight</td>\n",
       "      <td>140/95</td>\n",
       "      <td>Sleep Apnea</td>\n",
       "    </tr>\n",
       "  </tbody>\n",
       "</table>\n",
       "<p>374 rows × 5 columns</p>\n",
       "</div>"
      ]
     },
     "execution_count": 51,
     "metadata": {},
     "output_type": "execute_result"
    }
   ],
   "execution_count": 51
  },
  {
   "cell_type": "code",
   "id": "43772709",
   "metadata": {
    "ExecuteTime": {
     "end_time": "2025-10-27T16:05:58.425580Z",
     "start_time": "2025-10-27T16:05:58.423788Z"
    }
   },
   "source": [
    "#checking most frequent value of each column "
   ],
   "outputs": [],
   "execution_count": 52
  },
  {
   "cell_type": "code",
   "id": "a0d620cb",
   "metadata": {
    "ExecuteTime": {
     "end_time": "2025-10-27T16:05:58.441991Z",
     "start_time": "2025-10-27T16:05:58.435098Z"
    }
   },
   "source": [
    "df.select_dtypes(exclude=np.number).mode()"
   ],
   "outputs": [
    {
     "data": {
      "text/plain": [
       "  Gender Occupation BMI Category Blood Pressure Sleep Disorder\n",
       "0   Male      Nurse       Normal         130/85    Sleep Apnea"
      ],
      "text/html": [
       "<div>\n",
       "<style scoped>\n",
       "    .dataframe tbody tr th:only-of-type {\n",
       "        vertical-align: middle;\n",
       "    }\n",
       "\n",
       "    .dataframe tbody tr th {\n",
       "        vertical-align: top;\n",
       "    }\n",
       "\n",
       "    .dataframe thead th {\n",
       "        text-align: right;\n",
       "    }\n",
       "</style>\n",
       "<table border=\"1\" class=\"dataframe\">\n",
       "  <thead>\n",
       "    <tr style=\"text-align: right;\">\n",
       "      <th></th>\n",
       "      <th>Gender</th>\n",
       "      <th>Occupation</th>\n",
       "      <th>BMI Category</th>\n",
       "      <th>Blood Pressure</th>\n",
       "      <th>Sleep Disorder</th>\n",
       "    </tr>\n",
       "  </thead>\n",
       "  <tbody>\n",
       "    <tr>\n",
       "      <th>0</th>\n",
       "      <td>Male</td>\n",
       "      <td>Nurse</td>\n",
       "      <td>Normal</td>\n",
       "      <td>130/85</td>\n",
       "      <td>Sleep Apnea</td>\n",
       "    </tr>\n",
       "  </tbody>\n",
       "</table>\n",
       "</div>"
      ]
     },
     "execution_count": 53,
     "metadata": {},
     "output_type": "execute_result"
    }
   ],
   "execution_count": 53
  },
  {
   "cell_type": "code",
   "id": "f641d042",
   "metadata": {
    "ExecuteTime": {
     "end_time": "2025-10-27T16:05:58.458447Z",
     "start_time": "2025-10-27T16:05:58.454813Z"
    }
   },
   "source": [
    "df['Gender'].value_counts().head(1)[0]"
   ],
   "outputs": [
    {
     "data": {
      "text/plain": [
       "np.int64(189)"
      ]
     },
     "execution_count": 54,
     "metadata": {},
     "output_type": "execute_result"
    }
   ],
   "execution_count": 54
  },
  {
   "cell_type": "code",
   "id": "2b312161",
   "metadata": {
    "ExecuteTime": {
     "end_time": "2025-10-27T16:05:58.469433Z",
     "start_time": "2025-10-27T16:05:58.465258Z"
    }
   },
   "source": [
    "df['Occupation'].value_counts().head(1)[0]"
   ],
   "outputs": [
    {
     "data": {
      "text/plain": [
       "np.int64(73)"
      ]
     },
     "execution_count": 55,
     "metadata": {},
     "output_type": "execute_result"
    }
   ],
   "execution_count": 55
  },
  {
   "cell_type": "code",
   "id": "90f1c90e",
   "metadata": {
    "ExecuteTime": {
     "end_time": "2025-10-27T16:05:58.485404Z",
     "start_time": "2025-10-27T16:05:58.479115Z"
    }
   },
   "source": [
    "df['BMI Category'].value_counts().head(1)[0]"
   ],
   "outputs": [
    {
     "data": {
      "text/plain": [
       "np.int64(195)"
      ]
     },
     "execution_count": 56,
     "metadata": {},
     "output_type": "execute_result"
    }
   ],
   "execution_count": 56
  },
  {
   "cell_type": "code",
   "id": "9ffc5402",
   "metadata": {
    "ExecuteTime": {
     "end_time": "2025-10-27T16:05:58.500238Z",
     "start_time": "2025-10-27T16:05:58.496872Z"
    }
   },
   "source": [
    "df['Blood Pressure'].value_counts().head(1)[0]"
   ],
   "outputs": [
    {
     "data": {
      "text/plain": [
       "np.int64(99)"
      ]
     },
     "execution_count": 57,
     "metadata": {},
     "output_type": "execute_result"
    }
   ],
   "execution_count": 57
  },
  {
   "cell_type": "code",
   "id": "07c820e4",
   "metadata": {
    "ExecuteTime": {
     "end_time": "2025-10-27T16:05:58.521315Z",
     "start_time": "2025-10-27T16:05:58.514964Z"
    }
   },
   "source": [
    "df['Sleep Disorder'].value_counts().head(1)[0]"
   ],
   "outputs": [
    {
     "data": {
      "text/plain": [
       "np.int64(78)"
      ]
     },
     "execution_count": 58,
     "metadata": {},
     "output_type": "execute_result"
    }
   ],
   "execution_count": 58
  },
  {
   "cell_type": "code",
   "id": "001bad0d",
   "metadata": {
    "ExecuteTime": {
     "end_time": "2025-10-27T16:05:58.540844Z",
     "start_time": "2025-10-27T16:05:58.537836Z"
    }
   },
   "source": [
    "#checking frequency of most frequent value of the column"
   ],
   "outputs": [],
   "execution_count": 59
  },
  {
   "cell_type": "code",
   "id": "fa807dfe",
   "metadata": {
    "ExecuteTime": {
     "end_time": "2025-10-27T16:05:58.552877Z",
     "start_time": "2025-10-27T16:05:58.547978Z"
    }
   },
   "source": [
    "df['Gender'].value_counts(ascending=True).head(1)"
   ],
   "outputs": [
    {
     "data": {
      "text/plain": [
       "Gender\n",
       "Female    185\n",
       "Name: count, dtype: int64"
      ]
     },
     "execution_count": 60,
     "metadata": {},
     "output_type": "execute_result"
    }
   ],
   "execution_count": 60
  },
  {
   "cell_type": "code",
   "id": "44fba9c4",
   "metadata": {
    "ExecuteTime": {
     "end_time": "2025-10-27T16:05:58.562674Z",
     "start_time": "2025-10-27T16:05:58.559397Z"
    }
   },
   "source": [
    "df['Occupation'].value_counts(ascending=True).head(1)"
   ],
   "outputs": [
    {
     "data": {
      "text/plain": [
       "Occupation\n",
       "Manager    1\n",
       "Name: count, dtype: int64"
      ]
     },
     "execution_count": 61,
     "metadata": {},
     "output_type": "execute_result"
    }
   ],
   "execution_count": 61
  },
  {
   "cell_type": "code",
   "id": "a623ac9f",
   "metadata": {
    "ExecuteTime": {
     "end_time": "2025-10-27T16:05:58.584142Z",
     "start_time": "2025-10-27T16:05:58.580578Z"
    }
   },
   "source": [
    "df['BMI Category'].value_counts(ascending=True).head(1)"
   ],
   "outputs": [
    {
     "data": {
      "text/plain": [
       "BMI Category\n",
       "Obese    10\n",
       "Name: count, dtype: int64"
      ]
     },
     "execution_count": 62,
     "metadata": {},
     "output_type": "execute_result"
    }
   ],
   "execution_count": 62
  },
  {
   "cell_type": "code",
   "id": "242dc5c5",
   "metadata": {
    "ExecuteTime": {
     "end_time": "2025-10-27T16:05:58.595787Z",
     "start_time": "2025-10-27T16:05:58.592645Z"
    }
   },
   "source": [
    "df['Blood Pressure'].value_counts(ascending=True).head(1)"
   ],
   "outputs": [
    {
     "data": {
      "text/plain": [
       "Blood Pressure\n",
       "122/80    1\n",
       "Name: count, dtype: int64"
      ]
     },
     "execution_count": 63,
     "metadata": {},
     "output_type": "execute_result"
    }
   ],
   "execution_count": 63
  },
  {
   "cell_type": "code",
   "id": "fff3102a",
   "metadata": {
    "ExecuteTime": {
     "end_time": "2025-10-27T16:05:58.613084Z",
     "start_time": "2025-10-27T16:05:58.609634Z"
    }
   },
   "source": [
    "df['Sleep Disorder'].value_counts(ascending=True).head(1)"
   ],
   "outputs": [
    {
     "data": {
      "text/plain": [
       "Sleep Disorder\n",
       "Insomnia    77\n",
       "Name: count, dtype: int64"
      ]
     },
     "execution_count": 64,
     "metadata": {},
     "output_type": "execute_result"
    }
   ],
   "execution_count": 64
  },
  {
   "cell_type": "code",
   "id": "fadd5334",
   "metadata": {
    "ExecuteTime": {
     "end_time": "2025-10-27T16:05:58.621193Z",
     "start_time": "2025-10-27T16:05:58.619225Z"
    }
   },
   "source": [
    "#checking missing values in dataset"
   ],
   "outputs": [],
   "execution_count": 65
  },
  {
   "cell_type": "code",
   "id": "88c51598",
   "metadata": {
    "ExecuteTime": {
     "end_time": "2025-10-27T16:05:58.631939Z",
     "start_time": "2025-10-27T16:05:58.628779Z"
    }
   },
   "source": [
    "df.isnull().sum()"
   ],
   "outputs": [
    {
     "data": {
      "text/plain": [
       "Person ID                    0\n",
       "Gender                       0\n",
       "Age                          0\n",
       "Occupation                   0\n",
       "Sleep Duration               0\n",
       "Quality of Sleep             0\n",
       "Physical Activity Level      0\n",
       "Stress Level                 0\n",
       "BMI Category                 0\n",
       "Blood Pressure               0\n",
       "Heart Rate                   0\n",
       "Daily Steps                  0\n",
       "Sleep Disorder             219\n",
       "dtype: int64"
      ]
     },
     "execution_count": 66,
     "metadata": {},
     "output_type": "execute_result"
    }
   ],
   "execution_count": 66
  },
  {
   "cell_type": "code",
   "id": "f57048e0",
   "metadata": {
    "ExecuteTime": {
     "end_time": "2025-10-27T16:05:58.646135Z",
     "start_time": "2025-10-27T16:05:58.643647Z"
    }
   },
   "source": [
    "#percentage of missing values"
   ],
   "outputs": [],
   "execution_count": 67
  },
  {
   "cell_type": "code",
   "id": "72930463",
   "metadata": {
    "scrolled": true,
    "ExecuteTime": {
     "end_time": "2025-10-27T16:05:58.661098Z",
     "start_time": "2025-10-27T16:05:58.654601Z"
    }
   },
   "source": [
    "df.isna().sum()/len(df)*100"
   ],
   "outputs": [
    {
     "data": {
      "text/plain": [
       "Person ID                   0.00000\n",
       "Gender                      0.00000\n",
       "Age                         0.00000\n",
       "Occupation                  0.00000\n",
       "Sleep Duration              0.00000\n",
       "Quality of Sleep            0.00000\n",
       "Physical Activity Level     0.00000\n",
       "Stress Level                0.00000\n",
       "BMI Category                0.00000\n",
       "Blood Pressure              0.00000\n",
       "Heart Rate                  0.00000\n",
       "Daily Steps                 0.00000\n",
       "Sleep Disorder             58.55615\n",
       "dtype: float64"
      ]
     },
     "execution_count": 68,
     "metadata": {},
     "output_type": "execute_result"
    }
   ],
   "execution_count": 68
  },
  {
   "cell_type": "code",
   "id": "239a5e7a",
   "metadata": {
    "ExecuteTime": {
     "end_time": "2025-10-27T16:05:58.678480Z",
     "start_time": "2025-10-27T16:05:58.673238Z"
    }
   },
   "source": [
    "#checking duplicate rows"
   ],
   "outputs": [],
   "execution_count": 69
  },
  {
   "cell_type": "code",
   "id": "dce08a4c",
   "metadata": {
    "ExecuteTime": {
     "end_time": "2025-10-27T16:05:58.701037Z",
     "start_time": "2025-10-27T16:05:58.685606Z"
    }
   },
   "source": [
    "df[df.duplicated()]"
   ],
   "outputs": [
    {
     "data": {
      "text/plain": [
       "Empty DataFrame\n",
       "Columns: [Person ID, Gender, Age, Occupation, Sleep Duration, Quality of Sleep, Physical Activity Level, Stress Level, BMI Category, Blood Pressure, Heart Rate, Daily Steps, Sleep Disorder]\n",
       "Index: []"
      ],
      "text/html": [
       "<div>\n",
       "<style scoped>\n",
       "    .dataframe tbody tr th:only-of-type {\n",
       "        vertical-align: middle;\n",
       "    }\n",
       "\n",
       "    .dataframe tbody tr th {\n",
       "        vertical-align: top;\n",
       "    }\n",
       "\n",
       "    .dataframe thead th {\n",
       "        text-align: right;\n",
       "    }\n",
       "</style>\n",
       "<table border=\"1\" class=\"dataframe\">\n",
       "  <thead>\n",
       "    <tr style=\"text-align: right;\">\n",
       "      <th></th>\n",
       "      <th>Person ID</th>\n",
       "      <th>Gender</th>\n",
       "      <th>Age</th>\n",
       "      <th>Occupation</th>\n",
       "      <th>Sleep Duration</th>\n",
       "      <th>Quality of Sleep</th>\n",
       "      <th>Physical Activity Level</th>\n",
       "      <th>Stress Level</th>\n",
       "      <th>BMI Category</th>\n",
       "      <th>Blood Pressure</th>\n",
       "      <th>Heart Rate</th>\n",
       "      <th>Daily Steps</th>\n",
       "      <th>Sleep Disorder</th>\n",
       "    </tr>\n",
       "  </thead>\n",
       "  <tbody>\n",
       "  </tbody>\n",
       "</table>\n",
       "</div>"
      ]
     },
     "execution_count": 70,
     "metadata": {},
     "output_type": "execute_result"
    }
   ],
   "execution_count": 70
  },
  {
   "cell_type": "code",
   "id": "c52e563c",
   "metadata": {
    "ExecuteTime": {
     "end_time": "2025-10-27T16:05:58.880359Z",
     "start_time": "2025-10-27T16:05:58.874112Z"
    }
   },
   "source": [
    "#checking percentage of duplicate rows"
   ],
   "outputs": [],
   "execution_count": 71
  },
  {
   "cell_type": "code",
   "id": "f22c0925",
   "metadata": {
    "ExecuteTime": {
     "end_time": "2025-10-27T16:05:58.902292Z",
     "start_time": "2025-10-27T16:05:58.895277Z"
    }
   },
   "source": [
    "df.duplicated().sum()/len(df)*100"
   ],
   "outputs": [
    {
     "data": {
      "text/plain": [
       "np.float64(0.0)"
      ]
     },
     "execution_count": 72,
     "metadata": {},
     "output_type": "execute_result"
    }
   ],
   "execution_count": 72
  },
  {
   "cell_type": "code",
   "id": "58a6c570",
   "metadata": {
    "ExecuteTime": {
     "end_time": "2025-10-27T16:05:58.918187Z",
     "start_time": "2025-10-27T16:05:58.915344Z"
    }
   },
   "source": [
    "#4"
   ],
   "outputs": [],
   "execution_count": 73
  },
  {
   "cell_type": "code",
   "id": "43a6105d",
   "metadata": {
    "ExecuteTime": {
     "end_time": "2025-10-27T16:05:58.932124Z",
     "start_time": "2025-10-27T16:05:58.924807Z"
    }
   },
   "source": [
    "df.info()"
   ],
   "outputs": [
    {
     "name": "stdout",
     "output_type": "stream",
     "text": [
      "<class 'pandas.core.frame.DataFrame'>\n",
      "RangeIndex: 374 entries, 0 to 373\n",
      "Data columns (total 13 columns):\n",
      " #   Column                   Non-Null Count  Dtype  \n",
      "---  ------                   --------------  -----  \n",
      " 0   Person ID                374 non-null    int64  \n",
      " 1   Gender                   374 non-null    object \n",
      " 2   Age                      374 non-null    int64  \n",
      " 3   Occupation               374 non-null    object \n",
      " 4   Sleep Duration           374 non-null    float64\n",
      " 5   Quality of Sleep         374 non-null    int64  \n",
      " 6   Physical Activity Level  374 non-null    int64  \n",
      " 7   Stress Level             374 non-null    int64  \n",
      " 8   BMI Category             374 non-null    object \n",
      " 9   Blood Pressure           374 non-null    object \n",
      " 10  Heart Rate               374 non-null    int64  \n",
      " 11  Daily Steps              374 non-null    int64  \n",
      " 12  Sleep Disorder           155 non-null    object \n",
      "dtypes: float64(1), int64(7), object(5)\n",
      "memory usage: 38.1+ KB\n"
     ]
    }
   ],
   "execution_count": 74
  },
  {
   "cell_type": "code",
   "id": "d11768b6",
   "metadata": {
    "ExecuteTime": {
     "end_time": "2025-10-27T16:05:58.952389Z",
     "start_time": "2025-10-27T16:05:58.949477Z"
    }
   },
   "source": [
    "#Does the dataset contain unnecessary columns? Which?"
   ],
   "outputs": [],
   "execution_count": 75
  },
  {
   "cell_type": "markdown",
   "id": "7293b591",
   "metadata": {},
   "source": [
    "Yes the dataset contains unncessary column which is person id, This column is a unique identifier with all unique values. It should be dropped (or set as the index) before the main analysis."
   ]
  },
  {
   "cell_type": "code",
   "id": "c343c36c",
   "metadata": {
    "ExecuteTime": {
     "end_time": "2025-10-27T16:05:58.962168Z",
     "start_time": "2025-10-27T16:05:58.958704Z"
    }
   },
   "source": [
    "#Do the data types correspond to the columns?"
   ],
   "outputs": [],
   "execution_count": 76
  },
  {
   "cell_type": "markdown",
   "id": "84e714b5",
   "metadata": {},
   "source": [
    "Yes, all the dataypes of columns correspond to the column. No typecasting is needed in here."
   ]
  },
  {
   "cell_type": "code",
   "id": "3c766a91",
   "metadata": {
    "ExecuteTime": {
     "end_time": "2025-10-27T16:05:58.970972Z",
     "start_time": "2025-10-27T16:05:58.967890Z"
    }
   },
   "source": [
    "#Is the labelling of the columns appropriate?"
   ],
   "outputs": [],
   "execution_count": 77
  },
  {
   "cell_type": "markdown",
   "id": "47a56c81",
   "metadata": {},
   "source": [
    "Yes, the labelling of all the columns is appropriate"
   ]
  },
  {
   "cell_type": "code",
   "id": "1816c155",
   "metadata": {
    "ExecuteTime": {
     "end_time": "2025-10-27T16:05:59.034745Z",
     "start_time": "2025-10-27T16:05:59.030132Z"
    }
   },
   "source": [
    "#Are there mixed values in column (e.g.,number and characters)?"
   ],
   "outputs": [],
   "execution_count": 78
  },
  {
   "cell_type": "markdown",
   "id": "0033b9d5",
   "metadata": {},
   "source": [
    "No, there are no mixed values in the column"
   ]
  },
  {
   "cell_type": "code",
   "id": "bc229c72",
   "metadata": {
    "ExecuteTime": {
     "end_time": "2025-10-27T16:05:59.046653Z",
     "start_time": "2025-10-27T16:05:59.043355Z"
    }
   },
   "source": [
    "#Are string column clean?"
   ],
   "outputs": [],
   "execution_count": 79
  },
  {
   "cell_type": "markdown",
   "id": "825c90da",
   "metadata": {},
   "source": [
    "Yes, the columns are clean. they do not contain any null values."
   ]
  },
  {
   "cell_type": "code",
   "id": "c312dcb4",
   "metadata": {
    "ExecuteTime": {
     "end_time": "2025-10-27T16:05:59.062337Z",
     "start_time": "2025-10-27T16:05:59.058958Z"
    }
   },
   "source": [
    "#Does the dataset look machine generated?"
   ],
   "outputs": [],
   "execution_count": 80
  },
  {
   "cell_type": "markdown",
   "id": "ced7f940",
   "metadata": {},
   "source": [
    "NA"
   ]
  },
  {
   "cell_type": "code",
   "id": "da72e285",
   "metadata": {
    "ExecuteTime": {
     "end_time": "2025-10-27T16:05:59.075599Z",
     "start_time": "2025-10-27T16:05:59.072742Z"
    }
   },
   "source": [
    "#Other"
   ],
   "outputs": [],
   "execution_count": 81
  },
  {
   "cell_type": "markdown",
   "id": "bee47c24",
   "metadata": {},
   "source": [
    "NA"
   ]
  },
  {
   "cell_type": "code",
   "id": "8fd5ea70",
   "metadata": {
    "ExecuteTime": {
     "end_time": "2025-10-27T16:05:59.085198Z",
     "start_time": "2025-10-27T16:05:59.083332Z"
    }
   },
   "source": [
    "#5. Overall assessment\n",
    "#Is it worth it to further analyze the dataset?"
   ],
   "outputs": [],
   "execution_count": 82
  },
  {
   "cell_type": "code",
   "id": "e2f4671f",
   "metadata": {
    "ExecuteTime": {
     "end_time": "2025-10-27T16:05:59.117522Z",
     "start_time": "2025-10-27T16:05:59.115556Z"
    }
   },
   "source": [],
   "outputs": [],
   "execution_count": null
  },
  {
   "cell_type": "code",
   "id": "43ae95b4",
   "metadata": {
    "ExecuteTime": {
     "end_time": "2025-10-27T16:05:59.142823Z",
     "start_time": "2025-10-27T16:05:59.141001Z"
    }
   },
   "source": [],
   "outputs": [],
   "execution_count": null
  },
  {
   "cell_type": "code",
   "id": "7dd90d2a",
   "metadata": {
    "ExecuteTime": {
     "end_time": "2025-10-27T16:05:59.160173Z",
     "start_time": "2025-10-27T16:05:59.158783Z"
    }
   },
   "source": [],
   "outputs": [],
   "execution_count": null
  },
  {
   "cell_type": "code",
   "id": "5580a08f",
   "metadata": {
    "ExecuteTime": {
     "end_time": "2025-10-27T16:05:59.165857Z",
     "start_time": "2025-10-27T16:05:59.164296Z"
    }
   },
   "source": [],
   "outputs": [],
   "execution_count": null
  },
  {
   "cell_type": "code",
   "id": "5a5ed997",
   "metadata": {
    "ExecuteTime": {
     "end_time": "2025-10-27T16:05:59.170907Z",
     "start_time": "2025-10-27T16:05:59.169690Z"
    }
   },
   "source": [],
   "outputs": [],
   "execution_count": null
  },
  {
   "cell_type": "code",
   "id": "4a786ac5",
   "metadata": {
    "ExecuteTime": {
     "end_time": "2025-10-27T16:05:59.176477Z",
     "start_time": "2025-10-27T16:05:59.174580Z"
    }
   },
   "source": [],
   "outputs": [],
   "execution_count": null
  },
  {
   "cell_type": "code",
   "id": "87001d09",
   "metadata": {
    "ExecuteTime": {
     "end_time": "2025-10-27T16:05:59.191881Z",
     "start_time": "2025-10-27T16:05:59.190225Z"
    }
   },
   "source": [],
   "outputs": [],
   "execution_count": null
  },
  {
   "cell_type": "code",
   "id": "f7390988",
   "metadata": {
    "ExecuteTime": {
     "end_time": "2025-10-27T16:05:59.197215Z",
     "start_time": "2025-10-27T16:05:59.195911Z"
    }
   },
   "source": [],
   "outputs": [],
   "execution_count": null
  },
  {
   "cell_type": "code",
   "id": "d7a839a5",
   "metadata": {
    "ExecuteTime": {
     "end_time": "2025-10-27T16:05:59.206921Z",
     "start_time": "2025-10-27T16:05:59.205259Z"
    }
   },
   "source": [],
   "outputs": [],
   "execution_count": null
  },
  {
   "cell_type": "code",
   "id": "4e2cc8e0",
   "metadata": {
    "ExecuteTime": {
     "end_time": "2025-10-27T16:05:59.214437Z",
     "start_time": "2025-10-27T16:05:59.211601Z"
    }
   },
   "source": [],
   "outputs": [],
   "execution_count": null
  },
  {
   "cell_type": "code",
   "id": "f0c0ff3f",
   "metadata": {
    "ExecuteTime": {
     "end_time": "2025-10-27T16:05:59.220770Z",
     "start_time": "2025-10-27T16:05:59.218912Z"
    }
   },
   "source": [],
   "outputs": [],
   "execution_count": null
  },
  {
   "cell_type": "code",
   "id": "6310a2bf",
   "metadata": {
    "ExecuteTime": {
     "end_time": "2025-10-27T16:05:59.229357Z",
     "start_time": "2025-10-27T16:05:59.226635Z"
    }
   },
   "source": [],
   "outputs": [],
   "execution_count": null
  },
  {
   "cell_type": "code",
   "id": "0ca6e91f",
   "metadata": {
    "ExecuteTime": {
     "end_time": "2025-10-27T16:05:59.244877Z",
     "start_time": "2025-10-27T16:05:59.242061Z"
    }
   },
   "source": [],
   "outputs": [],
   "execution_count": null
  },
  {
   "cell_type": "code",
   "id": "9e40c5b0",
   "metadata": {
    "ExecuteTime": {
     "end_time": "2025-10-27T16:05:59.252640Z",
     "start_time": "2025-10-27T16:05:59.251011Z"
    }
   },
   "source": [],
   "outputs": [],
   "execution_count": null
  },
  {
   "cell_type": "code",
   "id": "44d4c2b1",
   "metadata": {
    "ExecuteTime": {
     "end_time": "2025-10-27T16:05:59.257909Z",
     "start_time": "2025-10-27T16:05:59.256232Z"
    }
   },
   "source": [],
   "outputs": [],
   "execution_count": null
  },
  {
   "cell_type": "code",
   "id": "591ae65d",
   "metadata": {
    "ExecuteTime": {
     "end_time": "2025-10-27T16:05:59.264255Z",
     "start_time": "2025-10-27T16:05:59.262418Z"
    }
   },
   "source": [],
   "outputs": [],
   "execution_count": null
  }
 ],
 "metadata": {
  "kernelspec": {
   "display_name": "Python 3 (ipykernel)",
   "language": "python",
   "name": "python3"
  },
  "language_info": {
   "codemirror_mode": {
    "name": "ipython",
    "version": 3
   },
   "file_extension": ".py",
   "mimetype": "text/x-python",
   "name": "python",
   "nbconvert_exporter": "python",
   "pygments_lexer": "ipython3",
   "version": "3.9.13"
  }
 },
 "nbformat": 4,
 "nbformat_minor": 5
}
